{
 "cells": [
  {
   "cell_type": "code",
<<<<<<< Updated upstream
   "execution_count": 2,
=======
   "execution_count": 3,
>>>>>>> Stashed changes
   "metadata": {},
   "outputs": [
    {
     "name": "stdout",
     "output_type": "stream",
     "text": [
      "<Response [200]>\n"
     ]
    }
   ],
   "source": [
    "import requests\n",
    "from bs4 import BeautifulSoup\n",
    "import pandas as pd\n",
    "import re\n",
    "\n",
    "page = requests.get('https://www.imdb.com/list/ls076655138/')\n",
    "print(page)\n",
    "soup = BeautifulSoup(page.content,'html.parser')"
   ]
  },
  {
   "cell_type": "code",
<<<<<<< Updated upstream
   "execution_count": 3,
=======
   "execution_count": 4,
>>>>>>> Stashed changes
   "metadata": {},
   "outputs": [],
   "source": [
    "# scraping site for data on genre, stars(actors) and filming dates\n",
    "\n",
    "genre_data = soup.find_all('span',class_='genre')\n",
    "cast_data = soup.find_all('p', class_=\"text-muted text-small\")\n",
    "\n",
    "directors_and_actors = []   # empty list to store text data from cast\n",
    "genre = []     # empty list to store text data from genre\n",
    "director_name = []      # empty list to store director's names in order\n",
    "stars = []         # empty list to store actor's names in order\n",
    "\n",
    "for i in range(len(genre_data)):\n",
    "    genre.append(genre_data[i].text.strip())\n",
    "\n",
    "for i in range(1,len(cast_data),3):\n",
    "    directors_and_actors.append(cast_data[i].text.strip())\n",
    "\n",
    "# Seperating the director's and actor's names from list\n",
    "for i in range(len(directors_and_actors)):\n",
    "    empty_string = ''\n",
    "    for j in range(len(directors_and_actors[i])):\n",
    "        if ord(directors_and_actors[i][j]) != 124:\n",
    "            empty_string = empty_string + directors_and_actors[i][j]\n",
    "        else:\n",
    "            director_name.append(empty_string.strip('Director:').strip())\n",
    "            break\n",
    "    empty_string = ''\n",
    "    for k in range(1,len(directors_and_actors[i])):\n",
    "        if ord(directors_and_actors[i][-k]) != 124:\n",
    "            empty_string = directors_and_actors[i][-k] + empty_string\n",
    "        else:\n",
    "            stars.append(empty_string.strip().strip('Stars:').replace('\\n',''))\n",
    "            break\n"
   ]
  },
  {
   "cell_type": "code",
   "execution_count": 53,
   "metadata": {},
   "outputs": [
    {
     "name": "stdout",
     "output_type": "stream",
     "text": [
      "['1988', '1981', '1984', '1989', '1991', '1987', '1987', '1981', '1986', '1991', '1987', '1996', '1994', '1982', '1985', '1990', '1995', '1997', '1997', '1994', '1993', '1999', '1999', '2003', '2015', '2008', '2006', '2012', '2002', '2007', '2004', '2004', '2003', '2014', '2017', '2019', '2011', '2014', '2011', '2008', '2010', '1994', '1995', '1984', '1986', '1993', '1991', '1987', '1989', '1992', '1985', '1993', '1993', '1996', '1996', '1998', '1997', '1988', '1994', '1986', '1988', '1986', '1992', '1986', '1989', '2000', '1994', '1995', '2003', '1986', '1972', '1989', '1973', '1972', '1988', '1979', '1976', '1981', '1968', '1964', '1995', '1984', '1982', '1986', '1990', '2017', '2018', '2012', '2018', '2015', '2014', '2006', '2011', '2006', '2002', '2003', '2013', '1968', '1967', '1989']\n",
      "['An NYPD officer tries to save his wife and several others taken hostage by German terrorists during a Christmas party at the Nakatomi Plaza in Los Angeles.', \"In 1936, archaeologist and adventurer Indiana Jones is hired by the U.S. government to find the Ark of the Covenant before Adolf Hitler's Nazis can obtain its awesome powers.\", 'In 1935, Indiana Jones arrives in India, still part of the British Empire, and is asked to find a mystical stone. He then stumbles upon a secret cult committing enslavement and human sacrifices in the catacombs of an ancient palace.', 'In 1938, after his father Professor Henry Jones, Sr. goes missing while pursuing the Holy Grail, Professor Henry \"Indiana\" Jones, Jr. finds himself up against Adolf Hitler\\'s Nazis again to stop them from obtaining its powers.', 'A cyborg, identical to the one who failed to kill Sarah Connor, must now protect her ten-year-old son John from a more advanced and powerful cyborg.', 'In a dystopic and crime-ridden Detroit, a terminally wounded cop returns to the force as a powerful cyborg haunted by submerged memories.', 'A team of commandos on a mission in a Central American jungle find themselves hunted by an extraterrestrial warrior.', 'In the post-apocalyptic Australian wasteland, a cynical drifter agrees to help a small, gasoline-rich community escape a horde of bandits.', 'Fifty-seven years after surviving an apocalyptic attack aboard her space vessel by merciless space creatures, Officer Ripley awakens from hyper-sleep and tries to warn anyone who will listen about the predators.', 'An F.B.I. Agent goes undercover to catch a gang of surfers who may be bank robbers.', 'Two newly paired cops who are complete opposites must put aside their differences in order to catch a gang of drug smugglers.', 'A mild-mannered chemist and an ex-con must lead the counterstrike when a rogue group of military men, led by a renegade general, threaten a nerve gas attack from Alcatraz against San Francisco.', 'A young police officer must prevent a bomb exploding aboard a city bus by keeping its speed above 50 mph.', 'A veteran Green Beret is forced by a cruel Sheriff and his deputies to flee into the mountains and wage an escalating one-man war against his pursuers.', 'A retired Special Forces colonel tries to save his daughter, who was abducted by his former subordinate.', 'When a man goes in to have virtual vacation memories of the planet Mars implanted in his mind, an unexpected and harrowing series of events forces him to go to the planet for real - or is he?', 'John McClane and a Harlem store owner are targeted by German terrorist Simon in New York City, where he plans to rob the Federal Reserve Building.', 'Newly paroled ex-con and former U.S. Ranger Cameron Poe finds himself trapped in a prisoner transport plane when the passengers seize control.', 'To foil a terrorist plot, an FBI agent undergoes facial transplant surgery to assume the identity of the criminal mastermind who murdered his only son, but the criminal wakes up prematurely and seeks revenge.', 'A fearless, globe-trotting, terrorist-battling secret agent has his life turned upside down when he discovers his wife might be having an affair with a used-car salesman while terrorists smuggle nuclear war heads into the United States.', 'With the help of a magic ticket, a young movie fan is transported into the fictional world of his favorite action movie character.', 'When a beautiful stranger leads computer hacker Neo to a forbidding underworld, he discovers the shocking truth--the life he knows is the elaborate deception of an evil cyber-intelligence.', 'At an archaeological dig in the ancient city of Hamunaptra, an American serving in the French Foreign Legion accidentally awakens a mummy who begins to wreak havoc as he searches for the reincarnation of his long-lost love.', 'Blacksmith Will Turner teams up with eccentric pirate \"Captain\" Jack Sparrow to save his love, the governor\\'s daughter, from Jack\\'s former pirate allies, who are now undead.', 'In a post-apocalyptic wasteland, a woman rebels against a tyrannical ruler in search for her homeland with the aid of a group of female prisoners, a psychotic worshiper, and a drifter named Max.', 'When the menace known as the Joker wreaks havoc and chaos on the people of Gotham, Batman must accept one of the greatest psychological and physical tests of his ability to fight injustice.', 'After earning 00 status and a licence to kill, secret agent James Bond sets out on his first mission as 007. Bond must defeat a private banker funding terrorists in a high-stakes game of poker at Casino Royale, Montenegro.', \"James Bond's loyalty to M is tested when her past comes back to haunt her. When MI6 comes under attack, 007 must track down and destroy the threat, no matter how personal the cost.\", 'A man is picked up by a fishing boat, bullet-riddled and suffering from amnesia, before racing to elude assassins and attempting to regain his memory.', 'Jason Bourne dodges a ruthless C.I.A. official and his Agents from a new assassination program while searching for the origins of his life as a trained killer.', 'When Jason Bourne is framed for a CIA operation gone awry, he is forced to resume his former life as a trained assassin to survive.', 'The Bride continues her quest of vengeance against her former boss and lover Bill, the reclusive bouncer Budd, and the treacherous, one-eyed Elle.', 'After awakening from a four-year coma, a former assassin wreaks vengeance on the team of assassins who betrayed her.', 'An ex-hit-man comes out of retirement to track down the gangsters that killed his dog and took everything from him.', 'After returning to the criminal underworld to repay a debt, John Wick discovers that a large bounty has been put on his life.', \"John Wick is on the run after killing a member of the international assassins' guild, and with a $14 million price tag on his head, he is the target of hit men and women everywhere.\", 'A S.W.A.T. team becomes trapped in a tenement run by a ruthless mobster and his army of killers and thugs.', 'Only a short time after the first raid, Rama goes undercover with the thugs of Jakarta and plans to bring down the syndicate and uncover the corruption within his police force.', \"The IMF is shut down when it's implicated in the bombing of the Kremlin, causing Ethan Hunt and his new team to go rogue to clear their organization's name.\", 'A retired CIA agent travels across Europe and relies on his old skills to save his estranged daughter, who has been kidnapped while on a trip to Paris.', 'A thief who steals corporate secrets through the use of dream-sharing technology is given the inverse task of planting an idea into the mind of a C.E.O., but his tragic past may doom the project and his team to disaster.', \"Mathilda, a 12-year-old girl, is reluctantly taken in by Léon, a professional assassin, after her family is murdered. An unusual relationship forms as she becomes his protégée and learns the assassin's trade.\", 'A group of high-end professional thieves start to feel the heat from the LAPD when they unknowingly leave a clue at their latest heist.', \"A human soldier is sent from 2029 to 1984 to stop an almost indestructible cyborg killing machine, sent from the same year, which has been programmed to execute a young woman whose unborn son is the key to humanity's future salvation.\", \"As students at the United States Navy's elite fighter weapons school compete to be best in the class, one daring young pilot learns a few things from a civilian instructor that are not taught in the classroom.\", 'Dr. Richard Kimble, unjustly accused of murdering his wife, must find the real killer while being the target of a nationwide manhunt led by a seasoned U.S. Marshal.', \"A private detective's protected female witness is murdered, prompting him and the victim's boyfriend to investigate the crime that leads to a corrupt politician and a crooked football team owner.\", 'In a dystopian America, a falsely convicted policeman gets his shot at freedom when he must forcibly participate in a TV game show where convicts, runners, must battle killers for their freedom.', 'Framed by their ruthless arch-nemesis, a mismatched LAPD crime-fighting duo has to put its differences aside to even the score with the evil kingpin who put them behind bars once and for all.', 'An ex-Navy Seal turned cook is the only person who can stop a group of terrorists when they seize control of a U.S. battleship.', 'Rambo returns to the jungles of Vietnam on a mission to infiltrate an enemy base-camp and rescue the American POWs still held captive there.', 'A police officer is brought out of suspended animation in prison to pursue an old ultra-violent nemesis who is loose in a non-violent future society.', 'A botched mid-air heist results in suitcases full of cash being searched for by various groups throughout the Rocky Mountains.', \"The aliens are coming and their goal is to invade and destroy Earth. Fighting superior technology, mankind's best weapon is the will to survive.\", \"Samantha Caine lives in a small town with her daughter. Eight years ago she emerged, two months pregnant, from a nearby river with no memory of her past or who she is. However, she's getting closer to finding out about her past.\", 'After discovering that an asteroid the size of Texas is going to impact Earth in less than a month, NASA recruits a misfit team of deep-core drillers to save the planet.', 'Communist Radicals hijack Air Force One with The U.S. President and his family on board. The Vice President negotiates from Washington D.C., while the President, a Veteran, fights to rescue the hostages on board.', 'A tough Russian policeman is forced to partner up with a cocky Chicago police detective when he is sent to Chicago to apprehend a Georgian drug lord who killed his partner and fled the country.', \"Max Walker, an officer for a security agency that regulates time travel, must fend for his life against a shady politician who's intent on changing the past to control the future.\", 'A tough-on-crime street cop must protect the only surviving witness to a strange murderous cult with far-reaching plans.', '\"Bloodsport\" follows Frank Dux, an American martial artist serving in the military, who decides to leave the army to compete in a martial arts tournament in Hong Kong where fights to the death can occur.', 'After a plane is hijacked by terrorists, The Delta Force is sent in to resolve the crisis.', 'A tough-as-nails cop teams up with an undercover agent to shut down a sinister mobster and his crew.', 'A reforming ex-gangster tries to reconcile with his estranged policeman brother, but the ties to his former gang are difficult to break.', 'A disillusioned assassin accepts one last hit in hopes of using his earnings to restore vision to a singer he accidentally blinded.', 'A young Chinese warrior steals a sword from a famed swordsman and then escapes into a world of romantic adventure with a mysterious man in the frontier of the nation.', \"A young martial artist is caught between respecting his pacifist father's wishes or stopping a group of disrespectful foreigners from stealing precious artifacts.\", 'A young man visiting and helping his uncle in New York City finds himself forced to fight a street gang and the mob with his martial art skills.', 'When the head of a statue sacred to a village is stolen, a young martial artist goes to the big city and finds himself taking on the underworld to retrieve it.', 'A rough-and-tumble trucker and his side kick face off with an ancient sorcerer in a supernatural battle beneath Chinatown.', 'A man visits his relatives at their restaurant in Italy and has to help them defend against brutal gangsters harassing them.', 'A tough bouncer is hired to tame a dirty bar.', \"A secret agent comes to an opium lord's island fortress with other fighters for a martial-arts tournament.\", 'A young man seeks vengence for the death of his teacher.', 'They influence our decisions without us knowing it. They numb our senses without us feeling it. They control our lives without us realizing it. They live.', 'In the near future, a charismatic leader summons the street gangs of New York City in a bid to take it over. When he is killed, The Warriors are falsely blamed and now must fight their way home while every other gang is hunting them down.', 'An unlikely partnership between a Highway Patrol Officer, two criminals and a station secretary is formed to defend a defunct Los Angeles precinct office against a siege by a bloodthirsty street gang.', 'In 1997, when the U.S. president crashes into Manhattan, now a giant maximum security prison, a convicted bank robber is sent in to rescue him.', 'An all-guts, no-glory San Francisco cop becomes determined to find the underworld kingpin that killed the witness in his protection.', \"While investigating a gold magnate's smuggling, James Bond uncovers a plot to contaminate the Fort Knox gold reserve.\", 'Former musician and gunslinger El Mariachi arrives at a small Mexican border town after being away for a long time. His past quickly catches up with him and he soon gets entangled with the local drug kingpin Bucho and his gang.', 'A freewheeling Detroit cop pursuing a murder investigation finds himself dealing with the very different culture of Beverly Hills.', 'A hard-nosed cop reluctantly teams up with a wise-cracking criminal temporarily paroled to him, in order to track down a killer.', 'An immortal Scottish swordsman must confront the last of his immortal opponent, a murderously brutal barbarian who lusts for the fabled \"Prize\".', 'John McClane attempts to avert disaster as rogue military operatives seize control of Dulles International Airport in Washington, D.C.', 'An undercover MI6 agent is sent to Berlin during the Cold War to investigate the murder of a fellow agent and recover a missing list of double agents.', 'Set in the near-future, technology controls nearly all aspects of life. But when the world of Grey, a self-labeled technophobe, is turned upside down, his only hope for revenge is an experimental computer chip implant.', 'In a violent, futuristic city where the police have the authority to act as judge, jury and executioner, a cop teams with a trainee to take down a gang that deals the reality-altering drug, SLO-MO.', 'Ethan Hunt and his IMF team, along with some familiar allies, race against time after a mission gone wrong.', 'Ethan and his team take on their most impossible mission yet when they have to eradicate an international rogue organization as highly skilled as they are and committed to destroying the IMF.', \"A spy organisation recruits a promising street kid into the agency's training program, while a global threat emerges from a twisted tech genius.\", 'King Leonidas of Sparta and a force of 300 men fight the Persians at Thermopylae in 480 B.C.', 'Dominic Toretto and his crew of street racers plan a massive heist to buy their freedom while in the sights of a powerful Brazilian drug lord and a dangerous federal agent.', 'Professional assassin Chev Chelios learns his rival has injected him with a poison that will kill him if his heart rate drops.', 'Frank Martin, who \"transports\" packages for unknown clients, is asked to move a package that soon begins moving, and complications arise.', 'Two loose-cannon narcotics cops investigate the flow of Ecstasy into Florida from a Cuban drug cartel.', 'In a future where a failed climate change experiment has killed all life except for the survivors who boarded the Snowpiercer (a train that travels around the globe), a new class system emerges.', \"Allied agents stage a daring raid on a castle where the Nazis are holding American brigadier general George Carnaby prisoner, but that's not all that's really going on.\", 'During World War II, a rebellious U.S. Army Major is assigned a dozen convicted murderers to train and lead them into a mass assassination mission of German officers.', 'Riggs and Murtaugh are on the trail of South African diplomats who are using their immunity to engage in criminal activities.']\n",
      "['Die Hard', 'Raiders of the Lost Ark', 'Indiana Jones and the Temple of Doom', 'Indiana Jones and the Last Crusade', 'Terminator : Judgment Day', 'RoboCop', 'Predator', 'Mad Max ', 'Aliens', 'Point Break', 'Lethal Weapon', 'The Rock', 'Speed', 'First Blood', 'Commando', 'Total Recall', 'Die Hard: With a Vengeance', 'Con Air', 'Face/Off', 'True Lies', 'Last Action Hero', 'The Matrix', 'The Mummy', 'Pirates of the Caribbean: The Curse of the Black Pearl', 'Mad Max: Fury Road', 'The Dark Knight', 'Casino Royale', 'Skyfall', 'The Bourne Identity', 'The Bourne Ultimatum', 'The Bourne Supremacy', 'Kill Bill: Vol. ', 'Kill Bill: Vol. ', 'John Wick', 'John Wick: Chapter ', 'John Wick: Chapter  - Parabellum', 'The Raid', 'The Raid ', 'Mission: Impossible - Ghost Protocol', 'Taken(I) ', 'Inception', 'Leon', 'Heat', 'The Terminator', 'Top Gun', 'The Fugitive', 'The Last Boy Scout', 'The Running Man', 'Tango & Cash', 'Under Siege', 'Rambo: First Blood Part II', 'Demolition Man', 'Cliffhanger', 'Independence Day', 'The Long Kiss Goodnight', 'Armageddon', 'Air Force One', 'Red Heat', 'Timecop', 'Cobra', 'Bloodsport', 'The Delta Force', 'Hard Boiled', 'A Better Tomorrow', 'The Killer', 'Crouching Tiger, Hidden Dragon', 'The Legend of Drunken Master', 'Rumble in the Bronx', 'Ong-Bak: The Thai Warrior', 'Big Trouble in Little China', 'Way of the Dragon', 'Road House', 'Enter The Dragon', 'Fist of Fury', 'They Live', 'The Warriors', 'Assault on Precinct ', 'Escape from New York', 'Bullitt', 'Goldfinger', 'Desperado', 'Beverly Hills Cop', ' Hrs.', 'Highlander', 'Die Hard ', 'Atomic Blonde', 'Upgrade', 'Dredd', 'Mission: Impossible - Fallout', 'Mission: Impossible - Rogue Nation', 'Kingsman: The Secret Service', '', 'Fast & Furious ', 'Crank', 'The Transporter', 'Bad Boys II', 'Snowpiercer', 'Where Eagles Dare', 'The Dirty Dozen', 'Lethal Weapon ']\n"
     ]
    }
   ],
   "source": [
<<<<<<< Updated upstream
    "# remove \"\"\"\" and add list at their appropiate point to create our dataframe\n",
    "\"\"\"df = pd.DataFrame({\n",
    "    'Movie':,\n",
    "    'Description':,\n",
    "    'Release Date':,\n",
    "    'Director':director_name,\n",
    "    'Rating':,\n",
    "    'Duration':,\n",
    "    'Genre':genre,\n",
    "    'Stars':stars,\n",
    "    'Filming Dates':\n",
    "})\n",
    "\n",
    "df.to_csv('top_100_drama.csv')\"\"\""
=======
    "movie_name_list = []\n",
    "description_list = []\n",
    "year_list = []\n",
    "\n",
    "for x in range(100):\n",
    "    movie_name_list.append(movie_name[x].text.strip(\"\").replace(\"\\n\",\"\"))\n",
    "    year_list.append(movie_name[x].text.strip(\"\").replace(\"\\n\",\"\"))\n",
    "    year_list[x] = ''.join([j for j in year_list[x] if j.isdigit()])\n",
    "    movie_name_list[x] = ''.join([j for j in movie_name_list[x] if not j.isdigit()])\n",
    "    for x in range(len(year_list)):\n",
    "        year_list[x] = year_list[x][-4:]\n",
    "    movie_name_list[x] = movie_name_list[x][1:-2]\n",
    "    description_list.append(description[x].text.strip(\"\\n\"))\n",
    "\n"
>>>>>>> Stashed changes
   ]
  }
 ],
 "metadata": {
  "interpreter": {
   "hash": "e171acd309c06983148c9856e741c79a7072f11ec9d548c93ae4f1382cc847af"
  },
  "kernelspec": {
   "display_name": "Python 3.8.12 64-bit ('strive': conda)",
   "language": "python",
   "name": "python3"
  },
  "language_info": {
   "codemirror_mode": {
    "name": "ipython",
    "version": 3
   },
   "file_extension": ".py",
   "mimetype": "text/x-python",
   "name": "python",
   "nbconvert_exporter": "python",
   "pygments_lexer": "ipython3",
   "version": "3.8.12"
  },
  "orig_nbformat": 4
 },
 "nbformat": 4,
 "nbformat_minor": 2
}
