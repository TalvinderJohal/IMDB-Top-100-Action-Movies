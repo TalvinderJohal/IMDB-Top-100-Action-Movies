{
 "cells": [
  {
   "cell_type": "code",
   "execution_count": 21,
   "metadata": {},
   "outputs": [
    {
     "name": "stdout",
     "output_type": "stream",
     "text": [
      "<Response [200]>\n"
     ]
    }
   ],
   "source": [
    "import requests\n",
    "from bs4 import BeautifulSoup\n",
    "import pandas as pd\n",
    "import urllib\n",
    "import re\n",
    "\n",
    "page = requests.get('https://www.imdb.com/list/ls076655138/')\n",
    "print(page)\n",
    "soup = BeautifulSoup(page.content,'html.parser')"
   ]
  },
  {
   "cell_type": "code",
   "execution_count": 28,
   "metadata": {},
   "outputs": [
    {
     "name": "stdout",
     "output_type": "stream",
     "text": [
      "[<p class=\"\">\n",
      "An NYPD officer tries to save his wife and several others taken hostage by German terrorists during a Christmas party at the Nakatomi Plaza in Los Angeles.</p>, <p class=\"\">\n",
      "In 1936, archaeologist and adventurer Indiana Jones is hired by the U.S. government to find the Ark of the Covenant before <a href=\"/name/nm0386944\">Adolf Hitler</a>'s Nazis can obtain its awesome powers.</p>, <p class=\"\">\n",
      "In 1935, Indiana Jones arrives in India, still part of the British Empire, and is asked to find a mystical stone. He then stumbles upon a secret cult committing enslavement and human sacrifices in the catacombs of an ancient palace.</p>, <p class=\"\">\n",
      "In 1938, after his father Professor Henry Jones, Sr. goes missing while pursuing the Holy Grail, Professor Henry \"Indiana\" Jones, Jr. finds himself up against <a href=\"/name/nm0386944\">Adolf Hitler</a>'s Nazis again to stop them from obtaining its powers.</p>, <p class=\"\">\n",
      "A cyborg, identical to the one who failed to kill Sarah Connor, must now protect her ten-year-old son John from a more advanced and powerful cyborg.</p>, <p class=\"\">\n",
      "In a dystopic and crime-ridden Detroit, a terminally wounded cop returns to the force as a powerful cyborg haunted by submerged memories.</p>, <p class=\"\">\n",
      "A team of commandos on a mission in a Central American jungle find themselves hunted by an extraterrestrial warrior.</p>, <p class=\"\">\n",
      "In the post-apocalyptic Australian wasteland, a cynical drifter agrees to help a small, gasoline-rich community escape a horde of bandits.</p>, <p class=\"\">\n",
      "Fifty-seven years after surviving an apocalyptic attack aboard her space vessel by merciless space creatures, Officer Ripley awakens from hyper-sleep and tries to warn anyone who will listen about the predators.</p>, <p class=\"\">\n",
      "An F.B.I. Agent goes undercover to catch a gang of surfers who may be bank robbers.</p>, <p class=\"\">\n",
      "Two newly paired cops who are complete opposites must put aside their differences in order to catch a gang of drug smugglers.</p>, <p class=\"\">\n",
      "A mild-mannered chemist and an ex-con must lead the counterstrike when a rogue group of military men, led by a renegade general, threaten a nerve gas attack from Alcatraz against San Francisco.</p>, <p class=\"\">\n",
      "A young police officer must prevent a bomb exploding aboard a city bus by keeping its speed above 50 mph.</p>, <p class=\"\">\n",
      "A veteran Green Beret is forced by a cruel Sheriff and his deputies to flee into the mountains and wage an escalating one-man war against his pursuers.</p>, <p class=\"\">\n",
      "A retired Special Forces colonel tries to save his daughter, who was abducted by his former subordinate.</p>, <p class=\"\">\n",
      "When a man goes in to have virtual vacation memories of the planet Mars implanted in his mind, an unexpected and harrowing series of events forces him to go to the planet for real - or is he?</p>, <p class=\"\">\n",
      "John McClane and a Harlem store owner are targeted by German terrorist Simon in New York City, where he plans to rob the Federal Reserve Building.</p>, <p class=\"\">\n",
      "Newly paroled ex-con and former U.S. Ranger Cameron Poe finds himself trapped in a prisoner transport plane when the passengers seize control.</p>, <p class=\"\">\n",
      "To foil a terrorist plot, an FBI agent undergoes facial transplant surgery to assume the identity of the criminal mastermind who murdered his only son, but the criminal wakes up prematurely and seeks revenge.</p>, <p class=\"\">\n",
      "A fearless, globe-trotting, terrorist-battling secret agent has his life turned upside down when he discovers his wife might be having an affair with a used-car salesman while terrorists smuggle nuclear war heads into the United States.</p>, <p class=\"\">\n",
      "With the help of a magic ticket, a young movie fan is transported into the fictional world of his favorite action movie character.</p>, <p class=\"\">\n",
      "When a beautiful stranger leads computer hacker Neo to a forbidding underworld, he discovers the shocking truth--the life he knows is the elaborate deception of an evil cyber-intelligence.</p>, <p class=\"\">\n",
      "At an archaeological dig in the ancient city of Hamunaptra, an American serving in the French Foreign Legion accidentally awakens a mummy who begins to wreak havoc as he searches for the reincarnation of his long-lost love.</p>, <p class=\"\">\n",
      "Blacksmith Will Turner teams up with eccentric pirate \"Captain\" Jack Sparrow to save his love, the governor's daughter, from Jack's former pirate allies, who are now undead.</p>, <p class=\"\">\n",
      "In a post-apocalyptic wasteland, a woman rebels against a tyrannical ruler in search for her homeland with the aid of a group of female prisoners, a psychotic worshiper, and a drifter named Max.</p>, <p class=\"\">\n",
      "When the menace known as the Joker wreaks havoc and chaos on the people of Gotham, Batman must accept one of the greatest psychological and physical tests of his ability to fight injustice.</p>, <p class=\"\">\n",
      "After earning 00 status and a licence to kill, secret agent James Bond sets out on his first mission as 007. Bond must defeat a private banker funding terrorists in a high-stakes game of poker at Casino Royale, Montenegro.</p>, <p class=\"\">\n",
      "James Bond's loyalty to M is tested when her past comes back to haunt her. When MI6 comes under attack, 007 must track down and destroy the threat, no matter how personal the cost.</p>, <p class=\"\">\n",
      "A man is picked up by a fishing boat, bullet-riddled and suffering from amnesia, before racing to elude assassins and attempting to regain his memory.</p>, <p class=\"\">\n",
      "Jason Bourne dodges a ruthless C.I.A. official and his Agents from a new assassination program while searching for the origins of his life as a trained killer.</p>, <p class=\"\">\n",
      "When Jason Bourne is framed for a CIA operation gone awry, he is forced to resume his former life as a trained assassin to survive.</p>, <p class=\"\">\n",
      "The Bride continues her quest of vengeance against her former boss and lover Bill, the reclusive bouncer Budd, and the treacherous, one-eyed Elle.</p>, <p class=\"\">\n",
      "After awakening from a four-year coma, a former assassin wreaks vengeance on the team of assassins who betrayed her.</p>, <p class=\"\">\n",
      "An ex-hit-man comes out of retirement to track down the gangsters that killed his dog and took everything from him.</p>, <p class=\"\">\n",
      "After returning to the criminal underworld to repay a debt, John Wick discovers that a large bounty has been put on his life.</p>, <p class=\"\">\n",
      "John Wick is on the run after killing a member of the international assassins' guild, and with a $14 million price tag on his head, he is the target of hit men and women everywhere.</p>, <p class=\"\">\n",
      "A S.W.A.T. team becomes trapped in a tenement run by a ruthless mobster and his army of killers and thugs.</p>, <p class=\"\">\n",
      "Only a short time after the first raid, Rama goes undercover with the thugs of Jakarta and plans to bring down the syndicate and uncover the corruption within his police force.</p>, <p class=\"\">\n",
      "The IMF is shut down when it's implicated in the bombing of the Kremlin, causing Ethan Hunt and his new team to go rogue to clear their organization's name.</p>, <p class=\"\">\n",
      "A retired CIA agent travels across Europe and relies on his old skills to save his estranged daughter, who has been kidnapped while on a trip to Paris.</p>, <p class=\"\">\n",
      "A thief who steals corporate secrets through the use of dream-sharing technology is given the inverse task of planting an idea into the mind of a C.E.O., but his tragic past may doom the project and his team to disaster.</p>, <p class=\"\">\n",
      "Mathilda, a 12-year-old girl, is reluctantly taken in by Léon, a professional assassin, after her family is murdered. An unusual relationship forms as she becomes his protégée and learns the assassin's trade.</p>, <p class=\"\">\n",
      "A group of high-end professional thieves start to feel the heat from the LAPD when they unknowingly leave a clue at their latest heist.</p>, <p class=\"\">\n",
      "A human soldier is sent from 2029 to 1984 to stop an almost indestructible cyborg killing machine, sent from the same year, which has been programmed to execute a young woman whose unborn son is the key to humanity's future salvation.</p>, <p class=\"\">\n",
      "As students at the United States Navy's elite fighter weapons school compete to be best in the class, one daring young pilot learns a few things from a civilian instructor that are not taught in the classroom.</p>, <p class=\"\">\n",
      "Dr. Richard Kimble, unjustly accused of murdering his wife, must find the real killer while being the target of a nationwide manhunt led by a seasoned U.S. Marshal.</p>, <p class=\"\">\n",
      "A private detective's protected female witness is murdered, prompting him and the victim's boyfriend to investigate the crime that leads to a corrupt politician and a crooked football team owner.</p>, <p class=\"\">\n",
      "In a dystopian America, a falsely convicted policeman gets his shot at freedom when he must forcibly participate in a TV game show where convicts, runners, must battle killers for their freedom.</p>, <p class=\"\">\n",
      "Framed by their ruthless arch-nemesis, a mismatched LAPD crime-fighting duo has to put its differences aside to even the score with the evil kingpin who put them behind bars once and for all.</p>, <p class=\"\">\n",
      "An ex-Navy Seal turned cook is the only person who can stop a group of terrorists when they seize control of a U.S. battleship.</p>, <p class=\"\">\n",
      "Rambo returns to the jungles of Vietnam on a mission to infiltrate an enemy base-camp and rescue the American POWs still held captive there.</p>, <p class=\"\">\n",
      "A police officer is brought out of suspended animation in prison to pursue an old ultra-violent nemesis who is loose in a non-violent future society.</p>, <p class=\"\">\n",
      "A botched mid-air heist results in suitcases full of cash being searched for by various groups throughout the Rocky Mountains.</p>, <p class=\"\">\n",
      "The aliens are coming and their goal is to invade and destroy Earth. Fighting superior technology, mankind's best weapon is the will to survive.</p>, <p class=\"\">\n",
      "Samantha Caine lives in a small town with her daughter. Eight years ago she emerged, two months pregnant, from a nearby river with no memory of her past or who she is. However, she's getting closer to finding out about her past.</p>, <p class=\"\">\n",
      "After discovering that an asteroid the size of Texas is going to impact Earth in less than a month, NASA recruits a misfit team of deep-core drillers to save the planet.</p>, <p class=\"\">\n",
      "Communist Radicals hijack Air Force One with The U.S. President and his family on board. The Vice President negotiates from Washington D.C., while the President, a Veteran, fights to rescue the hostages on board.</p>, <p class=\"\">\n",
      "A tough Russian policeman is forced to partner up with a cocky Chicago police detective when he is sent to Chicago to apprehend a Georgian drug lord who killed his partner and fled the country.</p>, <p class=\"\">\n",
      "Max Walker, an officer for a security agency that regulates time travel, must fend for his life against a shady politician who's intent on changing the past to control the future.</p>, <p class=\"\">\n",
      "A tough-on-crime street cop must protect the only surviving witness to a strange murderous cult with far-reaching plans.</p>, <p class=\"\">\n",
      "\"Bloodsport\" follows <a href=\"/name/nm0245235\">Frank Dux</a>, an American martial artist serving in the military, who decides to leave the army to compete in a martial arts tournament in Hong Kong where fights to the death can occur.</p>, <p class=\"\">\n",
      "After a plane is hijacked by terrorists, The Delta Force is sent in to resolve the crisis.</p>, <p class=\"\">\n",
      "A tough-as-nails cop teams up with an undercover agent to shut down a sinister mobster and his crew.</p>, <p class=\"\">\n",
      "A reforming ex-gangster tries to reconcile with his estranged policeman brother, but the ties to his former gang are difficult to break.</p>, <p class=\"\">\n",
      "A disillusioned assassin accepts one last hit in hopes of using his earnings to restore vision to a singer he accidentally blinded.</p>, <p class=\"\">\n",
      "A young Chinese warrior steals a sword from a famed swordsman and then escapes into a world of romantic adventure with a mysterious man in the frontier of the nation.</p>, <p class=\"\">\n",
      "A young martial artist is caught between respecting his pacifist father's wishes or stopping a group of disrespectful foreigners from stealing precious artifacts.</p>, <p class=\"\">\n",
      "A young man visiting and helping his uncle in New York City finds himself forced to fight a street gang and the mob with his martial art skills.</p>, <p class=\"\">\n",
      "When the head of a statue sacred to a village is stolen, a young martial artist goes to the big city and finds himself taking on the underworld to retrieve it.</p>, <p class=\"\">\n",
      "A rough-and-tumble trucker and his side kick face off with an ancient sorcerer in a supernatural battle beneath Chinatown.</p>, <p class=\"\">\n",
      "A man visits his relatives at their restaurant in Italy and has to help them defend against brutal gangsters harassing them.</p>, <p class=\"\">\n",
      "A tough bouncer is hired to tame a dirty bar.</p>, <p class=\"\">\n",
      "A secret agent comes to an opium lord's island fortress with other fighters for a martial-arts tournament.</p>, <p class=\"\">\n",
      "A young man seeks vengence for the death of his teacher.</p>, <p class=\"\">\n",
      "They influence our decisions without us knowing it. They numb our senses without us feeling it. They control our lives without us realizing it. They live.</p>, <p class=\"\">\n",
      "In the near future, a charismatic leader summons the street gangs of New York City in a bid to take it over. When he is killed, The Warriors are falsely blamed and now must fight their way home while every other gang is hunting them down.</p>, <p class=\"\">\n",
      "An unlikely partnership between a Highway Patrol Officer, two criminals and a station secretary is formed to defend a defunct Los Angeles precinct office against a siege by a bloodthirsty street gang.</p>, <p class=\"\">\n",
      "In 1997, when the U.S. president crashes into Manhattan, now a giant maximum security prison, a convicted bank robber is sent in to rescue him.</p>, <p class=\"\">\n",
      "An all-guts, no-glory San Francisco cop becomes determined to find the underworld kingpin that killed the witness in his protection.</p>, <p class=\"\">\n",
      "While investigating a gold magnate's smuggling, James Bond uncovers a plot to contaminate the Fort Knox gold reserve.</p>, <p class=\"\">\n",
      "Former musician and gunslinger El Mariachi arrives at a small Mexican border town after being away for a long time. His past quickly catches up with him and he soon gets entangled with the local drug kingpin Bucho and his gang.</p>, <p class=\"\">\n",
      "A freewheeling Detroit cop pursuing a murder investigation finds himself dealing with the very different culture of Beverly Hills.</p>, <p class=\"\">\n",
      "A hard-nosed cop reluctantly teams up with a wise-cracking criminal temporarily paroled to him, in order to track down a killer.</p>, <p class=\"\">\n",
      "An immortal Scottish swordsman must confront the last of his immortal opponent, a murderously brutal barbarian who lusts for the fabled \"Prize\".</p>, <p class=\"\">\n",
      "John McClane attempts to avert disaster as rogue military operatives seize control of Dulles International Airport in Washington, D.C.</p>, <p class=\"\">\n",
      "An undercover MI6 agent is sent to Berlin during the Cold War to investigate the murder of a fellow agent and recover a missing list of double agents.</p>, <p class=\"\">\n",
      "Set in the near-future, technology controls nearly all aspects of life. But when the world of Grey, a self-labeled technophobe, is turned upside down, his only hope for revenge is an experimental computer chip implant.</p>, <p class=\"\">\n",
      "In a violent, futuristic city where the police have the authority to act as judge, jury and executioner, a cop teams with a trainee to take down a gang that deals the reality-altering drug, SLO-MO.</p>, <p class=\"\">\n",
      "Ethan Hunt and his IMF team, along with some familiar allies, race against time after a mission gone wrong.</p>, <p class=\"\">\n",
      "Ethan and his team take on their most impossible mission yet when they have to eradicate an international rogue organization as highly skilled as they are and committed to destroying the IMF.</p>, <p class=\"\">\n",
      "A spy organisation recruits a promising street kid into the agency's training program, while a global threat emerges from a twisted tech genius.</p>, <p class=\"\">\n",
      "King Leonidas of Sparta and a force of 300 men fight the Persians at Thermopylae in 480 B.C.</p>, <p class=\"\">\n",
      "Dominic Toretto and his crew of street racers plan a massive heist to buy their freedom while in the sights of a powerful Brazilian drug lord and a dangerous federal agent.</p>, <p class=\"\">\n",
      "Professional assassin Chev Chelios learns his rival has injected him with a poison that will kill him if his heart rate drops.</p>, <p class=\"\">\n",
      "Frank Martin, who \"transports\" packages for unknown clients, is asked to move a package that soon begins moving, and complications arise.</p>, <p class=\"\">\n",
      "Two loose-cannon narcotics cops investigate the flow of Ecstasy into Florida from a Cuban drug cartel.</p>, <p class=\"\">\n",
      "In a future where a failed climate change experiment has killed all life except for the survivors who boarded the Snowpiercer (a train that travels around the globe), a new class system emerges.</p>, <p class=\"\">\n",
      "Allied agents stage a daring raid on a castle where the Nazis are holding American brigadier general George Carnaby prisoner, but that's not all that's really going on.</p>, <p class=\"\">\n",
      "During World War II, a rebellious U.S. Army Major is assigned a dozen convicted murderers to train and lead them into a mass assassination mission of German officers.</p>, <p class=\"\">\n",
      "Riggs and Murtaugh are on the trail of South African diplomats who are using their immunity to engage in criminal activities.</p>]\n"
     ]
    }
   ],
   "source": [
    "div = soup.find_all('div', {'class': 'lister list detail sub-list'})\n",
    "movie_name = soup.find_all('h3', {'class': 'lister-item-header'})\n",
    "description = soup.find_all('p', class_='')\n",
    "print(description)"
   ]
  },
  {
   "cell_type": "code",
   "execution_count": null,
   "metadata": {},
   "outputs": [],
   "source": [
    "movie_name_list = []\n",
    "description_list = []\n",
    "\n",
    "for x in range(100):\n",
    "    movie_name_list.append(movie_name[x].text.strip(\"\").replace(\"\\n\",\"\"))\n",
    "    movie_name_list[x] = ''.join([j for j in movie_name_list[x] if not j.isdigit()])\n",
    "    movie_name_list[x] = movie_name_list[x][1:-2]\n",
    "    description_list.append(description[x].text.strip(\"\\n\"))\n",
    "\n",
    "\n",
    "print(movie_name_list)\n",
    "# print(description_list)"
   ]
  }
 ],
 "metadata": {
  "interpreter": {
   "hash": "e171acd309c06983148c9856e741c79a7072f11ec9d548c93ae4f1382cc847af"
  },
  "kernelspec": {
   "display_name": "Python 3.8.12 64-bit ('strive': conda)",
   "language": "python",
   "name": "python3"
  },
  "language_info": {
   "codemirror_mode": {
    "name": "ipython",
    "version": 3
   },
   "file_extension": ".py",
   "mimetype": "text/x-python",
   "name": "python",
   "nbconvert_exporter": "python",
   "pygments_lexer": "ipython3",
   "version": "3.9.7"
  },
  "orig_nbformat": 4
 },
 "nbformat": 4,
 "nbformat_minor": 2
}
